{
 "cells": [
  {
   "cell_type": "markdown",
   "metadata": {},
   "source": [
    "# LeetCode Exercises"
   ]
  },
  {
   "cell_type": "markdown",
   "metadata": {},
   "source": [
    "### TwoSum"
   ]
  },
  {
   "cell_type": "markdown",
   "metadata": {},
   "source": [
    "This function iterates over an array of numbers and returns the indexes of which their sum is a target number."
   ]
  },
  {
   "cell_type": "code",
   "execution_count": 5,
   "metadata": {},
   "outputs": [
    {
     "data": {
      "text/plain": [
       "[2, 5]"
      ]
     },
     "execution_count": 5,
     "metadata": {},
     "output_type": "execute_result"
    }
   ],
   "source": [
    "nums = [3,11,7,15,6,2]\n",
    "target = 9\n",
    "\n",
    "def TwoSum(array, target):\n",
    "\n",
    "    seen = {}\n",
    "    for i,n in enumerate(array):\n",
    "        r = target - n\n",
    "        if r in seen:\n",
    "            output = [seen[r], i]\n",
    "        else:\n",
    "            seen[n] = i\n",
    "    \n",
    "    return output\n",
    "\n",
    "TwoSum(nums,target)"
   ]
  },
  {
   "cell_type": "markdown",
   "metadata": {},
   "source": [
    "### Palindrome"
   ]
  },
  {
   "cell_type": "markdown",
   "metadata": {},
   "source": [
    "This function returns True if the number is a palindrome and false otherwise."
   ]
  },
  {
   "cell_type": "code",
   "execution_count": 14,
   "metadata": {},
   "outputs": [
    {
     "data": {
      "text/plain": [
       "True"
      ]
     },
     "execution_count": 14,
     "metadata": {},
     "output_type": "execute_result"
    }
   ],
   "source": [
    "def isPalindrome(num):\n",
    "\n",
    "    y = str(num)\n",
    "    z = y[::-1]\n",
    "\n",
    "    if y == z:\n",
    "        output = True\n",
    "    else:\n",
    "        output = False\n",
    "\n",
    "    return output\n",
    "\n",
    "isPalindrome(747)"
   ]
  },
  {
   "cell_type": "markdown",
   "metadata": {},
   "source": [
    "### Roman to Integer"
   ]
  },
  {
   "cell_type": "markdown",
   "metadata": {},
   "source": [
    "This function receives a string (Roman number) as parameter and returns an int with the number conversion."
   ]
  },
  {
   "cell_type": "code",
   "execution_count": 3,
   "metadata": {},
   "outputs": [
    {
     "data": {
      "text/plain": [
       "60"
      ]
     },
     "execution_count": 3,
     "metadata": {},
     "output_type": "execute_result"
    }
   ],
   "source": [
    "def RomanToInteger(s):\n",
    "    \n",
    "    integer=0\n",
    "\n",
    "    nums = {'I': 1,\n",
    "            'V': 5,\n",
    "            'X': 10,\n",
    "            'L': 50,\n",
    "            'C': 100,\n",
    "            'D': 500,\n",
    "            'M': 1000}\n",
    "\n",
    "    for i,l in enumerate(s):\n",
    "        currentl = nums[s[i]]\n",
    "        if i < len(s)-1:\n",
    "            nextl = nums[s[i+1]]\n",
    "        else:\n",
    "            nextl = 0\n",
    "        if nextl > currentl:\n",
    "            integer -= nums[l]\n",
    "        else:\n",
    "            integer += nums[l]\n",
    "\n",
    "    return integer\n",
    "\n",
    "RomanToInteger('LX')"
   ]
  },
  {
   "cell_type": "markdown",
   "metadata": {},
   "source": [
    "### Longest Common Prefix"
   ]
  },
  {
   "cell_type": "markdown",
   "metadata": {},
   "source": [
    "This function receives a list of strings as a parameter and returns the longest common prefix between them."
   ]
  },
  {
   "cell_type": "code",
   "execution_count": 6,
   "metadata": {},
   "outputs": [
    {
     "data": {
      "text/plain": [
       "'car'"
      ]
     },
     "execution_count": 6,
     "metadata": {},
     "output_type": "execute_result"
    }
   ],
   "source": [
    "strs = [\"caro\", \"car\"]\n",
    "\n",
    "def LongestCommonPrefix(strs):\n",
    "\n",
    "    output = ''\n",
    "\n",
    "    for t in zip(*strs):\n",
    "        if all(char == t[0] for char in t):\n",
    "            output = output+t[0]\n",
    "        else:\n",
    "            break\n",
    "\n",
    "    return output\n",
    "\n",
    "LongestCommonPrefix(strs)"
   ]
  },
  {
   "cell_type": "markdown",
   "metadata": {},
   "source": [
    "### Valid Parentheses"
   ]
  },
  {
   "cell_type": "markdown",
   "metadata": {},
   "source": [
    "Given a string s containing just the characters '(', ')', '{', '}', '[' and ']', determine if the input string is valid.\n",
    "\n",
    "An input string is valid if:\n",
    "\n",
    "1. Open brackets must be closed by the same type of brackets.\n",
    "2. Open brackets must be closed in the correct order.\n",
    "3. Every close bracket has a corresponding open bracket of the same type."
   ]
  },
  {
   "cell_type": "code",
   "execution_count": 45,
   "metadata": {},
   "outputs": [
    {
     "data": {
      "text/plain": [
       "False"
      ]
     },
     "execution_count": 45,
     "metadata": {},
     "output_type": "execute_result"
    }
   ],
   "source": [
    "s = ']'\n",
    "\n",
    "def isValid(s: str) -> bool:\n",
    "\n",
    "    openers = '({['\n",
    "    brackets = {')':'(', '}':'{', ']':'['}\n",
    "    stack=[]\n",
    "\n",
    "    for p in s:\n",
    "        if p in openers:\n",
    "            stack.append(p)\n",
    "        else:\n",
    "            if not stack:\n",
    "                return False\n",
    "            else:\n",
    "                if brackets[p] == stack[-1]:\n",
    "                    del stack[-1]\n",
    "                else:\n",
    "                    return False\n",
    "            \n",
    "    if stack:\n",
    "        return False\n",
    "            \n",
    "    return True\n",
    "\n",
    "isValid(s)"
   ]
  },
  {
   "cell_type": "markdown",
   "metadata": {},
   "source": [
    "### Merge Two Sorted Lists"
   ]
  },
  {
   "cell_type": "markdown",
   "metadata": {},
   "source": [
    "You are given the heads of two sorted linked lists list1 and list2.\n",
    "\n",
    "Merge the two lists into one sorted list. The list should be made by splicing together the nodes of the first two lists.\n",
    "\n",
    "Return the head of the merged linked list."
   ]
  },
  {
   "cell_type": "code",
   "execution_count": null,
   "metadata": {},
   "outputs": [],
   "source": [
    "from typing import Optional\n",
    "\n",
    "class ListNode:\n",
    "    def __init__(self, val=0, next=None):\n",
    "        self.val=val\n",
    "        self.next=next\n",
    "\n",
    "def mergeTwoLists(list1: Optional[ListNode], list2: Optional[ListNode]) -> Optional[ListNode]:\n",
    "    head = ListNode()\n",
    "    cur = head\n",
    "\n",
    "    while list1 and list2:\n",
    "        if list1.val < list2.val:\n",
    "            cur.next = list1\n",
    "            list1 = list1.next\n",
    "        else:\n",
    "            cur.next = list2\n",
    "            list2 = list2.next\n",
    "        cur = cur.next\n",
    "\n",
    "    cur.next = list1 or list2\n",
    "\n",
    "    return head.next"
   ]
  },
  {
   "cell_type": "markdown",
   "metadata": {},
   "source": [
    "### Remove Duplicates from Sorted Array"
   ]
  },
  {
   "cell_type": "markdown",
   "metadata": {},
   "source": [
    "Given an integer array nums sorted in non-decreasing order, remove the duplicates in-place such that each unique element appears only once. The relative order of the elements should be kept the same. Then return the number of unique elements in nums.\n",
    "\n",
    "Consider the number of unique elements of nums to be k, to get accepted, you need to do the following things:\n",
    "\n",
    "Change the array nums such that the first k elements of nums contain the unique elements in the order they were present in nums initially. The remaining elements of nums are not important as well as the size of nums.\n",
    "Return k."
   ]
  },
  {
   "cell_type": "code",
   "execution_count": 85,
   "metadata": {},
   "outputs": [
    {
     "name": "stdout",
     "output_type": "stream",
     "text": [
      "3\n",
      "[1, 2, 3, 2, 2, 3, 3, 3, 3, 3, 3]\n"
     ]
    }
   ],
   "source": [
    "from typing import List\n",
    "\n",
    "nums = [1,1,2,2,2,3,3,3,3,3,3]\n",
    "\n",
    "def removeDuplicates(nums: List[int]) -> int:\n",
    "    k = 1\n",
    "\n",
    "    for i in range(1, len(nums)):\n",
    "        if nums[i] != nums[i-1]:\n",
    "            nums[k] = nums[i]\n",
    "            k+=1\n",
    "\n",
    "    return k\n",
    "\n",
    "print(removeDuplicates(nums))\n",
    "print(nums)"
   ]
  },
  {
   "cell_type": "markdown",
   "metadata": {},
   "source": [
    "### Remove Element"
   ]
  },
  {
   "cell_type": "markdown",
   "metadata": {},
   "source": [
    "Given an integer array nums and an integer val, remove all occurrences of val in nums in-place. The order of the elements may be changed. Then return the number of elements in nums which are not equal to val.\n",
    "\n",
    "Consider the number of elements in nums which are not equal to val be k, to get accepted, you need to do the following things:\n",
    "\n",
    "Change the array nums such that the first k elements of nums contain the elements which are not equal to val. The remaining elements of nums are not important as well as the size of nums.\n",
    "Return k."
   ]
  },
  {
   "cell_type": "code",
   "execution_count": 33,
   "metadata": {},
   "outputs": [],
   "source": [
    "from typing import List\n",
    "\n",
    "nums = [1,1,2,2,2,4]\n",
    "\n",
    "def removeElement(nums: List[int], val: int) -> int:\n",
    "    k = 0\n",
    "\n",
    "    for i in range(len(nums)):\n",
    "        if nums[i] != val:\n",
    "            nums[k] = nums[i]\n",
    "            k+=1\n",
    "\n",
    "    return k"
   ]
  },
  {
   "cell_type": "code",
   "execution_count": 34,
   "metadata": {},
   "outputs": [
    {
     "data": {
      "text/plain": [
       "3"
      ]
     },
     "execution_count": 34,
     "metadata": {},
     "output_type": "execute_result"
    }
   ],
   "source": [
    "removeElement(nums, 2)"
   ]
  },
  {
   "cell_type": "code",
   "execution_count": 35,
   "metadata": {},
   "outputs": [
    {
     "data": {
      "text/plain": [
       "[1, 1, 4, 2, 2, 4]"
      ]
     },
     "execution_count": 35,
     "metadata": {},
     "output_type": "execute_result"
    }
   ],
   "source": [
    "nums"
   ]
  },
  {
   "cell_type": "markdown",
   "metadata": {},
   "source": [
    "### Find the index of the first occurrence in a String"
   ]
  },
  {
   "cell_type": "markdown",
   "metadata": {},
   "source": [
    "Given two strings needle and haystack, return the index of the first occurrence of needle in haystack, or -1 if needle is not part of haystack.\n",
    "\n",
    " \n",
    "\n",
    "Example 1:\n",
    "\n",
    "Input: haystack = \"sadbutsad\", needle = \"sad\"\n",
    "Output: 0\n",
    "Explanation: \"sad\" occurs at index 0 and 6.\n",
    "The first occurrence is at index 0, so we return 0.\n",
    "Example 2:\n",
    "\n",
    "Input: haystack = \"leetcode\", needle = \"leeto\"\n",
    "Output: -1\n",
    "Explanation: \"leeto\" did not occur in \"leetcode\", so we return -1.\n",
    " \n",
    "\n",
    "Constraints:\n",
    "\n",
    "* 1 <= haystack.length, needle.length <= 104\n",
    "* haystack and needle consist of only lowercase English characters."
   ]
  },
  {
   "cell_type": "code",
   "execution_count": 49,
   "metadata": {},
   "outputs": [
    {
     "data": {
      "text/plain": [
       "-1"
      ]
     },
     "execution_count": 49,
     "metadata": {},
     "output_type": "execute_result"
    }
   ],
   "source": [
    "def strStr(haystack: str, needle: str) -> int:\n",
    "\n",
    "    if len(needle) > len(haystack):\n",
    "        return -1\n",
    "\n",
    "    for i in range(len(haystack)):\n",
    "        if haystack[i] == needle[0]:\n",
    "            count=1\n",
    "            if count == len(needle):\n",
    "                return i\n",
    "            \n",
    "            for j in range(1, len(needle)):\n",
    "                try:\n",
    "                    if haystack[i+j] == needle[j]:\n",
    "                        count+=1\n",
    "                        if count == len(needle):\n",
    "                            return i\n",
    "                except IndexError:\n",
    "                    return -1\n",
    "    \n",
    "    return -1\n",
    "\n",
    "strStr(\"mississippi\", \"issipi\")"
   ]
  },
  {
   "cell_type": "markdown",
   "metadata": {},
   "source": [
    "#### Alternative Solution"
   ]
  },
  {
   "cell_type": "code",
   "execution_count": 51,
   "metadata": {},
   "outputs": [
    {
     "data": {
      "text/plain": [
       "1"
      ]
     },
     "execution_count": 51,
     "metadata": {},
     "output_type": "execute_result"
    }
   ],
   "source": [
    "a = 'holaol'\n",
    "b = 'ol'\n",
    "\n",
    "a.find('ol')"
   ]
  },
  {
   "cell_type": "markdown",
   "metadata": {},
   "source": [
    "### Search Insert Position"
   ]
  },
  {
   "cell_type": "markdown",
   "metadata": {},
   "source": [
    "Given a sorted array of distinct integers and a target value, return the index if the target is found. If not, return the index where it would be if it were inserted in order.\n",
    "\n",
    "You must write an algorithm with O(log n) runtime complexity.\n",
    "\n",
    "* Example 1:\n",
    "\n",
    "    Input: nums = [1,3,5,6], target = 5\\\n",
    "    Output: 2\n",
    "\n",
    "* Example 2:\n",
    "\n",
    "    Input: nums = [1,3,5,6], target = 2\\\n",
    "    Output: 1\n",
    "\n",
    "* Example 3:\n",
    "\n",
    "    Input: nums = [1,3,5,6], target = 7\\\n",
    "    Output: 4"
   ]
  },
  {
   "cell_type": "code",
   "execution_count": 66,
   "metadata": {},
   "outputs": [
    {
     "data": {
      "text/plain": [
       "2"
      ]
     },
     "execution_count": 66,
     "metadata": {},
     "output_type": "execute_result"
    }
   ],
   "source": [
    "from typing import List\n",
    "\n",
    "def searchInsert(nums: List[int], target: int) -> int:\n",
    "    for num in nums:\n",
    "        if num == target:\n",
    "            return nums.index(target)\n",
    "        elif num > target:\n",
    "            return nums.index(num)\n",
    "                    \n",
    "    return len(nums)\n",
    "        \n",
    "searchInsert([1,3,5,6], 4)"
   ]
  },
  {
   "cell_type": "markdown",
   "metadata": {},
   "source": [
    "### Length of Last Word"
   ]
  },
  {
   "cell_type": "markdown",
   "metadata": {},
   "source": [
    "Given a string s consisting of words and spaces, return the length of the last word in the string.\n",
    "\n",
    "A word is a maximal \n",
    "substring\n",
    " consisting of non-space characters only."
   ]
  },
  {
   "cell_type": "code",
   "execution_count": 88,
   "metadata": {},
   "outputs": [
    {
     "data": {
      "text/plain": [
       "6"
      ]
     },
     "execution_count": 88,
     "metadata": {},
     "output_type": "execute_result"
    }
   ],
   "source": [
    "def lengthOfLastWord(s: str) -> int:\n",
    "\n",
    "    length=0\n",
    "    \n",
    "    for i in range(len(s)-1,-1,-1):\n",
    "        if s[i] != ' ':\n",
    "            length+=1\n",
    "        elif length != 0:\n",
    "            return length\n",
    "        \n",
    "    return length\n",
    "\n",
    "lengthOfLastWord('hola como  estass  ')"
   ]
  },
  {
   "cell_type": "markdown",
   "metadata": {},
   "source": [
    "#### Alternative Solution"
   ]
  },
  {
   "cell_type": "code",
   "execution_count": 93,
   "metadata": {},
   "outputs": [
    {
     "data": {
      "text/plain": [
       "6"
      ]
     },
     "execution_count": 93,
     "metadata": {},
     "output_type": "execute_result"
    }
   ],
   "source": [
    "s = 'hola como  estass  '\n",
    "s = s.strip().split(' ')\n",
    "\n",
    "len(s[-1])\n"
   ]
  },
  {
   "cell_type": "markdown",
   "metadata": {},
   "source": [
    "### Plus One"
   ]
  },
  {
   "cell_type": "markdown",
   "metadata": {},
   "source": [
    "You are given a large integer represented as an integer array digits, where each digits[i] is the ith digit of the integer. The digits are ordered from most significant to least significant in left-to-right order. The large integer does not contain any leading 0's.\n",
    "\n",
    "Increment the large integer by one and return the resulting array of digits.\n",
    "\n",
    " \n",
    "\n",
    "Example 1:\n",
    "\n",
    "Input: digits = [1,2,3]\\\n",
    "Output: [1,2,4]\\\n",
    "Explanation: The array represents the integer 123.\\\n",
    "Incrementing by one gives 123 + 1 = 124.\\\n",
    "Thus, the result should be [1,2,4].\n",
    "\n",
    "Example 2:\n",
    "\n",
    "Input: digits = [4,3,2,1]\\\n",
    "Output: [4,3,2,2]\\\n",
    "Explanation: The array represents the integer 4321.\\\n",
    "Incrementing by one gives 4321 + 1 = 4322.\\\n",
    "Thus, the result should be [4,3,2,2].\n",
    "\n",
    "Example 3:\n",
    "\n",
    "Input: digits = [9]\\\n",
    "Output: [1,0]\\\n",
    "Explanation: The array represents the integer 9.\\\n",
    "Incrementing by one gives 9 + 1 = 10.\\\n",
    "Thus, the result should be [1,0]."
   ]
  },
  {
   "cell_type": "code",
   "execution_count": 68,
   "metadata": {},
   "outputs": [
    {
     "data": {
      "text/plain": [
       "[1, 0, 0]"
      ]
     },
     "execution_count": 68,
     "metadata": {},
     "output_type": "execute_result"
    }
   ],
   "source": [
    "from typing import List\n",
    "\n",
    "def plusOne(digits: List[int]) -> List[int]:\n",
    "\n",
    "    result = int(''.join(map(str, digits)))+1\n",
    "    result = [int(digit) for digit in str(result)]\n",
    "    \n",
    "    return result\n",
    "\n",
    "plusOne([9,9])"
   ]
  },
  {
   "cell_type": "markdown",
   "metadata": {},
   "source": [
    "#### Alternative Solution"
   ]
  },
  {
   "cell_type": "code",
   "execution_count": 63,
   "metadata": {},
   "outputs": [
    {
     "data": {
      "text/plain": [
       "[1, 9, 1, 0, 0]"
      ]
     },
     "execution_count": 63,
     "metadata": {},
     "output_type": "execute_result"
    }
   ],
   "source": [
    "from typing import List\n",
    "\n",
    "def plusOne(digits: List[int]) -> List[int]:\n",
    "\n",
    "    i = len(digits)-1\n",
    "    nine_v = False\n",
    "\n",
    "    if digits[-1] != 9:\n",
    "        digits[-1] += 1\n",
    "        return digits\n",
    "\n",
    "    while digits[i] == 9:\n",
    "        digits[i] = 0\n",
    "        nine_v = True\n",
    "        i-=1\n",
    "    \n",
    "    if i == -1:\n",
    "        digits.insert(0, 1)\n",
    "    elif nine_v:\n",
    "        digits[i] += 1\n",
    "\n",
    "    return digits\n",
    "    \n",
    "\n",
    "plusOne([1,9,0,9,9])"
   ]
  },
  {
   "cell_type": "markdown",
   "metadata": {},
   "source": [
    "### Add Binary"
   ]
  },
  {
   "cell_type": "markdown",
   "metadata": {},
   "source": [
    "Given two binary strings a and b, return their sum as a binary string.\n",
    " \n",
    "\n",
    "Example 1:\n",
    "\n",
    "Input: a = \"11\", b = \"1\"\\\n",
    "Output: \"100\"\n",
    "\n",
    "Example 2:\n",
    "\n",
    "Input: a = \"1010\", b = \"1011\"\\\n",
    "Output: \"10101\""
   ]
  },
  {
   "cell_type": "code",
   "execution_count": 68,
   "metadata": {},
   "outputs": [
    {
     "data": {
      "text/plain": [
       "'110110'"
      ]
     },
     "execution_count": 68,
     "metadata": {},
     "output_type": "execute_result"
    }
   ],
   "source": [
    "def addBinary(a: str, b: str) -> str:\n",
    "\n",
    "    if len(a) > len(b):\n",
    "        longest = a\n",
    "    else:\n",
    "        longest = b\n",
    "\n",
    "    max_range = range(-1,-len(longest)-1,-1)\n",
    "    result = ''\n",
    "    carry = 0\n",
    "\n",
    "    try:\n",
    "        for i in max_range:\n",
    "            sum = int(a[i]) + int(b[i]) + carry\n",
    "\n",
    "            if sum == 3:\n",
    "                carry = 1\n",
    "                result += '1'\n",
    "            elif sum == 2:\n",
    "                carry = 1\n",
    "                result += '0'\n",
    "            else:\n",
    "                carry = 0\n",
    "                result += str(sum)\n",
    "        \n",
    "        if carry == 1:\n",
    "            result += '1'\n",
    "            \n",
    "    except IndexError:\n",
    "        while i > -len(longest)-1:\n",
    "            sum = int(longest[i]) + carry\n",
    "\n",
    "            if sum == 2:\n",
    "                carry = 1\n",
    "                result += '0'\n",
    "            else:\n",
    "                carry = 0\n",
    "                result += str(sum)\n",
    "            \n",
    "            i-=1\n",
    "        \n",
    "        if carry == 1:\n",
    "            result += '1'\n",
    "\n",
    "    return result[::-1]\n",
    "    \n",
    "addBinary('100', '110010')"
   ]
  },
  {
   "cell_type": "code",
   "execution_count": 89,
   "metadata": {},
   "outputs": [
    {
     "name": "stdout",
     "output_type": "stream",
     "text": [
      "1\n",
      "2\n",
      "3\n",
      "4\n",
      "5\n"
     ]
    }
   ],
   "source": [
    "def suma(a,b):\n",
    "    return a+b\n",
    "\n",
    "resultado = 0\n",
    "\n",
    "for i in range(5):\n",
    "    resultado = suma(1,resultado)\n",
    "    print(resultado)"
   ]
  },
  {
   "cell_type": "markdown",
   "metadata": {},
   "source": [
    "### Sqrt(x)"
   ]
  },
  {
   "cell_type": "markdown",
   "metadata": {},
   "source": [
    "Given a non-negative integer x, return the square root of x rounded down to the nearest integer. The returned integer should be non-negative as well.\n",
    "\n",
    "You must not use any built-in exponent function or operator.\n",
    "\n",
    "For example, do not use pow(x, 0.5) in c++ or x ** 0.5 in python.\n",
    " \n",
    "\n",
    "Example 1:\n",
    "\n",
    "Input: x = 4\\\n",
    "Output: 2\\\n",
    "Explanation: The square root of 4 is 2, so we return 2.\n",
    "\n",
    "Example 2:\n",
    "\n",
    "Input: x = 8\\\n",
    "Output: 2\\\n",
    "Explanation: The square root of 8 is 2.82842..., and since we round it down to the nearest integer, 2 is returned.\n",
    " \n",
    "\n",
    "Constraints:\n",
    "\n",
    "0 <= x <= 231 - 1"
   ]
  },
  {
   "cell_type": "code",
   "execution_count": 12,
   "metadata": {},
   "outputs": [
    {
     "name": "stdout",
     "output_type": "stream",
     "text": [
      "1 1 3 0\n",
      "2 4 3 2\n",
      "3 9 3 3\n",
      "2 4 2 3\n"
     ]
    },
    {
     "data": {
      "text/plain": [
       "2"
      ]
     },
     "execution_count": 12,
     "metadata": {},
     "output_type": "execute_result"
    }
   ],
   "source": [
    "def binSqrt(x: int) -> int:\n",
    "    mid = x//2\n",
    "    power = mid*mid\n",
    "    min,max = 0,x\n",
    "\n",
    "    while power != x and max >= min:\n",
    "        if power > x:\n",
    "            max = mid-1\n",
    "        else:\n",
    "            min = mid+1\n",
    "        mid = min + (max-min)//2\n",
    "        power = mid*mid\n",
    "\n",
    "    return mid\n",
    "\n",
    "binSqrt(8)"
   ]
  },
  {
   "cell_type": "markdown",
   "metadata": {},
   "source": [
    "### Climbing Stairs"
   ]
  },
  {
   "cell_type": "markdown",
   "metadata": {},
   "source": [
    "You are climbing a staircase. It takes n steps to reach the top.\n",
    "\n",
    "Each time you can either climb 1 or 2 steps. In how many distinct ways can you climb to the top?\n",
    "\n",
    "\n",
    "Example 1:\n",
    "\n",
    "Input: n = 2\\\n",
    "Output: 2\\\n",
    "Explanation: There are two ways to climb to the top.\n",
    "1. 1 step + 1 step\n",
    "2. 2 steps\n",
    "Example 2:\n",
    "\n",
    "Input: n = 3\\\n",
    "Output: 3\\\n",
    "Explanation: There are three ways to climb to the top.\n",
    "1. 1 step + 1 step + 1 step\n",
    "2. 1 step + 2 steps\n",
    "3. 2 steps + 1 step"
   ]
  },
  {
   "cell_type": "code",
   "execution_count": 13,
   "metadata": {},
   "outputs": [],
   "source": [
    "def climbStairs(n: int) -> int:\n",
    "    if n == 0 or n == 1:\n",
    "        return 1\n",
    "    return climbStairs(n-1) + climbStairs(n-2)"
   ]
  },
  {
   "cell_type": "code",
   "execution_count": 18,
   "metadata": {},
   "outputs": [
    {
     "data": {
      "text/plain": [
       "89"
      ]
     },
     "execution_count": 18,
     "metadata": {},
     "output_type": "execute_result"
    }
   ],
   "source": [
    "climbStairs(10)"
   ]
  },
  {
   "cell_type": "markdown",
   "metadata": {},
   "source": [
    "### Remove Duplicates from Sorted List"
   ]
  },
  {
   "cell_type": "markdown",
   "metadata": {},
   "source": [
    "Given the head of a sorted linked list, delete all duplicates such that each element appears only once. Return the linked list sorted as well."
   ]
  },
  {
   "cell_type": "code",
   "execution_count": 90,
   "metadata": {},
   "outputs": [],
   "source": [
    "class ListNode:\n",
    "    def __init__(self, val=0, next=None):\n",
    "        self.val = val\n",
    "        self.next = next\n",
    "\n",
    "    def addValue(self, val):\n",
    "        pointer = self.next\n",
    "        new_node = ListNode(val)\n",
    "\n",
    "        if not pointer:\n",
    "            self.next = new_node\n",
    "        else:\n",
    "            while pointer.next:\n",
    "                pointer = pointer.next \n",
    "            pointer.next = new_node\n",
    "\n",
    "    def displayValues(self):\n",
    "        pointer = self.next\n",
    "        elem = []\n",
    "\n",
    "        while pointer:\n",
    "            elem.append(pointer.val)\n",
    "            pointer = pointer.next\n",
    "\n",
    "        print(elem)"
   ]
  },
  {
   "cell_type": "code",
   "execution_count": 91,
   "metadata": {},
   "outputs": [
    {
     "name": "stdout",
     "output_type": "stream",
     "text": [
      "[1, 1, 2, 3, 3]\n"
     ]
    }
   ],
   "source": [
    "my_list = ListNode()\n",
    "my_list.addValue(1)\n",
    "my_list.addValue(1)\n",
    "my_list.addValue(2)\n",
    "my_list.addValue(3)\n",
    "my_list.addValue(3)\n",
    "my_list.displayValues()"
   ]
  },
  {
   "cell_type": "code",
   "execution_count": 89,
   "metadata": {},
   "outputs": [],
   "source": [
    "from typing import Optional\n",
    "\n",
    "class Solution:\n",
    "    def deleteDuplicates(self, head: Optional[ListNode]) -> Optional[ListNode]:\n",
    "        pointer = head.next\n",
    "        builder = head.next\n",
    "\n",
    "        while pointer.next:\n",
    "            if pointer.val != pointer.next.val:\n",
    "                builder.next = pointer.next\n",
    "                builder = builder.next\n",
    "            pointer = pointer.next\n",
    "\n",
    "        if builder.val == builder.next.val:\n",
    "            builder.next = None\n",
    "            \n",
    "        return head"
   ]
  },
  {
   "cell_type": "code",
   "execution_count": 92,
   "metadata": {},
   "outputs": [
    {
     "name": "stdout",
     "output_type": "stream",
     "text": [
      "[1, 1, 2, 3, 3]\n",
      "[1, 2, 3]\n"
     ]
    }
   ],
   "source": [
    "my_list.displayValues()\n",
    "sol = Solution()\n",
    "a = sol.deleteDuplicates(my_list)\n",
    "a.displayValues()"
   ]
  },
  {
   "cell_type": "code",
   "execution_count": 93,
   "metadata": {},
   "outputs": [
    {
     "name": "stdout",
     "output_type": "stream",
     "text": [
      "[1, 2, 3]\n"
     ]
    }
   ],
   "source": [
    "my_list.displayValues()"
   ]
  },
  {
   "cell_type": "markdown",
   "metadata": {},
   "source": [
    "### Merge Sorted Array"
   ]
  },
  {
   "cell_type": "markdown",
   "metadata": {},
   "source": [
    "You are given two integer arrays nums1 and nums2, sorted in non-decreasing order, and two integers m and n, representing the number of elements in nums1 and nums2 respectively.\n",
    "\n",
    "Merge nums1 and nums2 into a single array sorted in non-decreasing order.\n",
    "\n",
    "The final sorted array should not be returned by the function, but instead be stored inside the array nums1. To accommodate this, nums1 has a length of m + n, where the first m elements denote the elements that should be merged, and the last n elements are set to 0 and should be ignored. nums2 has a length of n.\n",
    "\n",
    "Example 1:\n",
    "\n",
    "Input: nums1 = [1,2,3,0,0,0], m = 3, nums2 = [2,5,6], n = 3\\\n",
    "Output: [1,2,2,3,5,6]\\\n",
    "Explanation: The arrays we are merging are [1,2,3] and [2,5,6].\\\n",
    "The result of the merge is [1,2,2,3,5,6] with the underlined elements coming from nums1.\\\n",
    "\n",
    "Example 2:\n",
    "\n",
    "Input: nums1 = [1], m = 1, nums2 = [], n = 0\\\n",
    "Output: [1]\\\n",
    "Explanation: The arrays we are merging are [1] and [].\\\n",
    "The result of the merge is [1].\\\n",
    "\n",
    "Example 3:\n",
    "\n",
    "Input: nums1 = [0], m = 0, nums2 = [1], n = 1\\\n",
    "Output: [1]\\\n",
    "Explanation: The arrays we are merging are [] and [1].\\\n",
    "The result of the merge is [1].\\\n",
    "Note that because m = 0, there are no elements in nums1. The 0 is only there to ensure the merge result can fit in nums1."
   ]
  },
  {
   "cell_type": "code",
   "execution_count": 10,
   "metadata": {},
   "outputs": [
    {
     "data": {
      "text/plain": [
       "[1, 2, 2, 3, 5, 6]"
      ]
     },
     "execution_count": 10,
     "metadata": {},
     "output_type": "execute_result"
    }
   ],
   "source": [
    "n1 = [1,2,3,0,0,0]\n",
    "n2 = [2,5,6]\n",
    "\n",
    "m = 3\n",
    "n = 3\n",
    "\n",
    "for j in range(n):\n",
    "    n1[m+j] = n2[j]\n",
    "\n",
    "n1.sort()\n",
    "n1"
   ]
  },
  {
   "cell_type": "markdown",
   "metadata": {},
   "source": [
    "### Binary Tree Inorder Traversal"
   ]
  },
  {
   "cell_type": "markdown",
   "metadata": {},
   "source": [
    "Given the root of a binary tree, return the inorder traversal of its nodes' values.\n",
    "\n",
    "Example 1:\n",
    "\n",
    "Input: root = [1,null,2,3]\\\n",
    "Output: [1,3,2]\n",
    "\n",
    "Example 2:\n",
    "\n",
    "Input: root = []\\\n",
    "Output: []\n",
    "\n",
    "Example 3:\n",
    "\n",
    "Input: root = [1]\\\n",
    "Output: [1]"
   ]
  },
  {
   "cell_type": "code",
   "execution_count": 3,
   "metadata": {},
   "outputs": [],
   "source": [
    "from typing import Optional, List\n",
    "\n",
    "class TreeNode:\n",
    "    def __init__(self, val=0, left=None, right=None):\n",
    "        self.val = val\n",
    "        self.left = left\n",
    "        self.right = right\n",
    "\n",
    "class Solution:\n",
    "    def inorderTraversal(self, root: Optional[TreeNode]) -> List[int]:\n",
    "\n",
    "        res = []\n",
    "\n",
    "        def inorder(root):\n",
    "            if not root:\n",
    "                return\n",
    "            inorder(root.left)\n",
    "            res.append(root.val)\n",
    "            inorder(root.right)\n",
    "\n",
    "        inorder(root)\n",
    "\n",
    "        return res"
   ]
  },
  {
   "cell_type": "code",
   "execution_count": 8,
   "metadata": {},
   "outputs": [
    {
     "data": {
      "text/plain": [
       "[4, 2, 5, 1, 3]"
      ]
     },
     "execution_count": 8,
     "metadata": {},
     "output_type": "execute_result"
    }
   ],
   "source": [
    "root = TreeNode(1, TreeNode(2, TreeNode(4), TreeNode(5)), TreeNode(3))\n",
    "\n",
    "a = Solution()\n",
    "a.inorderTraversal(root)"
   ]
  },
  {
   "cell_type": "markdown",
   "metadata": {},
   "source": [
    "### Same Tree"
   ]
  },
  {
   "cell_type": "code",
   "execution_count": 50,
   "metadata": {},
   "outputs": [],
   "source": [
    "from typing import Optional, List\n",
    "\n",
    "class TreeNode:\n",
    "    def __init__(self, val=0, left=None, right=None):\n",
    "        self.val = val\n",
    "        self.left = left\n",
    "        self.right = right\n",
    "\n",
    "class Solution:\n",
    "    def isSameTree(self, p: Optional[TreeNode], q: Optional[TreeNode]) -> bool:\n",
    "\n",
    "        ps = self.inorderTraversal(p)\n",
    "        qs = self.inorderTraversal(q)\n",
    "\n",
    "        if ps == qs:\n",
    "            return True\n",
    "        else:\n",
    "            return False\n",
    "\n",
    "    def inorderTraversal(self, root: Optional[TreeNode]) -> List[int]:\n",
    "        nv = []\n",
    "\n",
    "        def recursion(root):\n",
    "            if not root:\n",
    "                return\n",
    "            if not root.left or not root.right:\n",
    "                nv.append(None)\n",
    "                \n",
    "            recursion(root.left)\n",
    "            nv.append(root.val)\n",
    "            recursion(root.right)\n",
    "\n",
    "        recursion(root)\n",
    "\n",
    "        return nv"
   ]
  },
  {
   "cell_type": "code",
   "execution_count": 51,
   "metadata": {},
   "outputs": [],
   "source": [
    "a = TreeNode(1, left=TreeNode(1))\n",
    "b = TreeNode(1, right=TreeNode(1))"
   ]
  },
  {
   "cell_type": "code",
   "execution_count": 52,
   "metadata": {},
   "outputs": [
    {
     "data": {
      "text/plain": [
       "False"
      ]
     },
     "execution_count": 52,
     "metadata": {},
     "output_type": "execute_result"
    }
   ],
   "source": [
    "sol = Solution()\n",
    "\n",
    "sol.isSameTree(a,b)"
   ]
  },
  {
   "cell_type": "code",
   "execution_count": 58,
   "metadata": {},
   "outputs": [
    {
     "data": {
      "text/plain": [
       "[None, 1, None, 1]"
      ]
     },
     "execution_count": 58,
     "metadata": {},
     "output_type": "execute_result"
    }
   ],
   "source": [
    "sol.inorderTraversal(b)"
   ]
  },
  {
   "cell_type": "markdown",
   "metadata": {},
   "source": [
    "# Retos Programacion MoureDev"
   ]
  },
  {
   "cell_type": "markdown",
   "metadata": {},
   "source": [
    "### Reto #0 - El famoso Fizz - Buzz"
   ]
  },
  {
   "cell_type": "markdown",
   "metadata": {},
   "source": [
    "Escribe un programa que muestre por consola (con un print) los números de 1 a 100 (ambos incluidos y con un salto de línea entre cada impresión), sustituyendo los siguientes:\n",
    "- Múltiplos de 3 por la palabra \"fizz\".\n",
    "- Múltiplos de 5 por la palabra \"buzz\".\n",
    "- Múltiplos de 3 y de 5 a la vez por la palabra \"fizzbuzz\"."
   ]
  },
  {
   "cell_type": "code",
   "execution_count": null,
   "metadata": {},
   "outputs": [],
   "source": [
    "for i in range(1,101):\n",
    "    if i%3 == 0 and i%5 == 0:\n",
    "        print(\"fizzbuzz\")\n",
    "    elif i%3 == 0:\n",
    "        print(\"fizz\")\n",
    "    elif i%5 == 0:\n",
    "        print(\"buzz\")\n",
    "    else:\n",
    "        print(i)"
   ]
  },
  {
   "cell_type": "markdown",
   "metadata": {},
   "source": [
    "### Reto #1 - Lenguaje Hacker"
   ]
  },
  {
   "cell_type": "markdown",
   "metadata": {},
   "source": [
    "Escribe un programa que reciba un texto y transforme lenguaje natural a \"lenguaje hacker\" (conocido realmente como \"leet\" o \"1337\"). Este lenguaje se caracteriza por sustituir caracteres alfanuméricos.\n",
    " * Utiliza esta tabla (https://www.gamehouse.com/blog/leet-speak-cheat-sheet/) con el alfabeto y los números en \"leet\".\n",
    " * (Usa la primera opción de cada transformación. Por ejemplo \"4\" para la \"a\")"
   ]
  },
  {
   "cell_type": "code",
   "execution_count": 8,
   "metadata": {},
   "outputs": [
    {
     "name": "stdout",
     "output_type": "stream",
     "text": [
      "3st0 3s (_)n4 pr(_)3b4\n"
     ]
    }
   ],
   "source": [
    "texto = input('Por favor ingresa el texto a transformar 💬 ')\n",
    "output = ''\n",
    "\n",
    "leet = {'a':'4', 'A':'4',\n",
    "        'e':'3', 'E':'3',\n",
    "        'i':'1', 'I':'1',\n",
    "        'o':'0', 'O':'0',\n",
    "        'u': '(_)', 'U': '(_)',\n",
    "        '1':'L',\n",
    "        '2':'R',\n",
    "        '3':'E',\n",
    "        '4':'A',\n",
    "        '5':'S',\n",
    "        '6':'b',\n",
    "        '7':'T',\n",
    "        '8':'B',\n",
    "        '9':'g',\n",
    "        '0':'o'}\n",
    "\n",
    "for char in texto:\n",
    "    if char in leet:\n",
    "        output = output + leet[char]\n",
    "    else:\n",
    "        output = output + char\n",
    "\n",
    "print(output)"
   ]
  },
  {
   "cell_type": "markdown",
   "metadata": {},
   "source": [
    "### Reto #2 - Partido de Tenis"
   ]
  },
  {
   "cell_type": "markdown",
   "metadata": {},
   "source": [
    "Escribe un programa que muestre cómo transcurre un juego de tenis y quién lo ha ganado.\n",
    "\n",
    "El programa recibirá una secuencia formada por \"P1\" (Player 1) o \"P2\" (Player 2), según quien gane cada punto del juego.\n",
    "\n",
    " * Las puntuaciones de un juego son \"Love\" (cero), 15, 30, 40, \"Deuce\" (empate), ventaja.\n",
    " * Ante la secuencia [P1, P1, P2, P2, P1, P2, P1, P1], el programa mostraría lo siguiente:\n",
    "   * 15 - Love\n",
    "   * 30 - Love\n",
    "   * 30 - 15\n",
    "   * 30 - 30\n",
    "   * 40 - 30\n",
    "   * Deuce\n",
    "   * Ventaja P1\n",
    "   * Ha ganado el P1\n",
    " * Si quieres, puedes controlar errores en la entrada de datos.   \n",
    " * Consulta las reglas del juego si tienes dudas sobre el sistema de puntos.   "
   ]
  },
  {
   "cell_type": "code",
   "execution_count": null,
   "metadata": {},
   "outputs": [],
   "source": [
    "validacion = False\n",
    "\n",
    "while not validacion:\n",
    "    secuencia = input('Por favor ingrese la secuencia del juego: ')\n",
    "    secuencia = secuencia.split(sep=',')\n",
    "\n",
    "    print(secuencia)\n",
    "\n",
    "    for i,jugador in enumerate(secuencia):\n",
    "        secuencia[i] = jugador.strip()\n",
    "\n",
    "    for jugador in secuencia:\n",
    "        if jugador != 'P1' and jugador != 'P2':\n",
    "            print('Por favor ingrese \"P1\" o \"P2\" como su secuencia, separada por comas')\n",
    "            validacion = False\n",
    "            break\n",
    "        else:\n",
    "            validacion = True\n",
    "\n",
    "puntos_p1 = 0\n",
    "puntos_p2 = 0\n",
    "deuce_flag = False\n",
    "\n",
    "marcador = {0: 'Love',\n",
    "            1: '15',\n",
    "            2: '30',\n",
    "            3: '40',}\n",
    "\n",
    "def deuce():\n",
    "    if puntos_p1 == puntos_p2 and (puntos_p1 >= 3 or puntos_p2 >= 3):\n",
    "        deuce = True\n",
    "    else:\n",
    "        deuce = False\n",
    "    return deuce\n",
    "\n",
    "def ventaja():\n",
    "    if abs(puntos_p1 - puntos_p2) == 1:\n",
    "        ventaja = True\n",
    "    else:\n",
    "        ventaja = False\n",
    "    return ventaja\n",
    "\n",
    "def ganador():\n",
    "    if (puntos_p1 >= 4 or puntos_p2 >= 4) and abs(puntos_p1 - puntos_p2) >= 2:\n",
    "        ganador = True\n",
    "    else:\n",
    "        ganador = False\n",
    "    return ganador\n",
    "\n",
    "for jugador in secuencia:\n",
    "\n",
    "    if jugador == 'P1':\n",
    "        puntos_p1 += 1\n",
    "    elif jugador == 'P2':\n",
    "        puntos_p2 += 1\n",
    "\n",
    "    if deuce():\n",
    "        deuce_flag = True\n",
    "        print('Deuce')\n",
    "    elif ventaja() and deuce_flag:\n",
    "        print(f'Ventaja {jugador}')\n",
    "    elif ganador():\n",
    "        print(f'Ha ganado el {jugador}')\n",
    "        break\n",
    "    else:\n",
    "        print(f'{marcador[puntos_p1]} - {marcador[puntos_p2]}')"
   ]
  },
  {
   "cell_type": "markdown",
   "metadata": {},
   "source": [
    "### Reto #3 - Generador de Contrasenas"
   ]
  },
  {
   "cell_type": "markdown",
   "metadata": {},
   "source": [
    "Escribe un programa que sea capaz de generar contraseñas de forma aleatoria.\n",
    " * Podrás configurar generar contraseñas con los siguientes parámetros:\n",
    "    * Longitud: Entre 8 y 16.\n",
    "    * Con o sin letras mayúsculas.\n",
    "    * Con o sin números.\n",
    "    * Con o sin símbolos.\n",
    " * (Pudiendo combinar todos estos parámetros entre ellos)"
   ]
  },
  {
   "cell_type": "code",
   "execution_count": 51,
   "metadata": {},
   "outputs": [
    {
     "name": "stdout",
     "output_type": "stream",
     "text": [
      "\n",
      "      \n",
      "    Su contraseña es: GB)+^JR?oOVO\n",
      "\n",
      "    \n"
     ]
    }
   ],
   "source": [
    "import random as rd\n",
    "import string as sg\n",
    "\n",
    "password = ''\n",
    "\n",
    "long = int(input('Ingrese el número de caracteres deseado para su contraseña [8-16] '))\n",
    "mayus = input('Desea incluir mayúsculas en su contraseña? [y/n] ')\n",
    "numeros = input('Desea incluir números en su contraseña? [y/n] ')\n",
    "simbolos = input('Desea incluir símbolos en su contraseña? [y/n] ')\n",
    "\n",
    "for i in range(0,long):\n",
    "    selector = []\n",
    "\n",
    "    if mayus == 'y':\n",
    "        randuc = rd.choice(sg.ascii_letters)\n",
    "        selector.append(randuc)\n",
    "    else:\n",
    "        randlc = rd.choice(sg.ascii_lowercase)\n",
    "        selector.append(randlc)\n",
    "    if numeros == 'y':\n",
    "        randn = rd.randint(0,9)\n",
    "        selector.append(randn)\n",
    "    if simbolos == 'y':\n",
    "        randsy = rd.choice(sg.punctuation)\n",
    "        selector.append(randsy)\n",
    "\n",
    "    password = password+str(rd.choice(selector))\n",
    "\n",
    "print(f'''\n",
    "      \n",
    "    Su contraseña es: {password}\n",
    "\n",
    "    ''')"
   ]
  },
  {
   "cell_type": "markdown",
   "metadata": {},
   "source": [
    "### Reto #9 - Heterograma, Hisograma y Pangrama"
   ]
  },
  {
   "cell_type": "markdown",
   "metadata": {},
   "source": [
    "Crea 3 funciones, cada una encargada de detectar si una cadena de texto es un heterograma, un isograma o un pangrama. Debes buscar la definición de cada uno de estos términos."
   ]
  },
  {
   "cell_type": "code",
   "execution_count": 54,
   "metadata": {},
   "outputs": [
    {
     "name": "stdout",
     "output_type": "stream",
     "text": [
      "True!\n"
     ]
    }
   ],
   "source": [
    "import string as sg\n",
    "\n",
    "def es_pangrama():\n",
    "    frase = input('Por favor ingresa una palabra o frase ').lower()\n",
    "\n",
    "    abecedario = []\n",
    "\n",
    "    for letra in frase:\n",
    "        if letra not in abecedario:\n",
    "            abecedario.append(letra)\n",
    "\n",
    "    for sym in sg.punctuation:\n",
    "        if sym in abecedario:\n",
    "            abecedario.remove(sym)\n",
    "    if ' ' in abecedario:\n",
    "        abecedario.remove(' ')\n",
    "\n",
    "    if len(abecedario) == 33:\n",
    "        return True\n",
    "    else:\n",
    "        return False\n",
    "\n",
    "def es_heterograma():\n",
    "    frase = input('Por favor ingresa una palabra o frase ').lower()\n",
    "    resumen = []\n",
    "    visto = []\n",
    "\n",
    "    for sym in sg.punctuation:\n",
    "        visto.append(sym)\n",
    "    visto.append(' ')\n",
    "\n",
    "    for letra in frase:\n",
    "        if letra not in visto:\n",
    "            visto.append(letra)\n",
    "            cuenta = 0\n",
    "            for i in range(len(frase)):\n",
    "                if letra == frase[i]:\n",
    "                    cuenta += 1\n",
    "            resumen.append(cuenta)\n",
    "\n",
    "    for num in resumen:\n",
    "        if num != 1:\n",
    "            return False\n",
    "\n",
    "    return True\n",
    "\n",
    "def es_isograma():\n",
    "    frase = input('Por favor ingresa una palabra o frase ').lower()\n",
    "    resumen = []\n",
    "    visto = []\n",
    "\n",
    "    for sym in sg.punctuation:\n",
    "        visto.append(sym)\n",
    "    visto.append(' ')\n",
    "\n",
    "    for letra in frase:\n",
    "        if letra not in visto:\n",
    "            visto.append(letra)\n",
    "            cuenta = 0\n",
    "            for i in range(len(frase)):\n",
    "                if letra == frase[i]:\n",
    "                    cuenta += 1\n",
    "            resumen.append(cuenta)\n",
    "\n",
    "    for num in resumen:\n",
    "        if num == 1 or num != resumen[0]:\n",
    "            return False\n",
    "\n",
    "    return True\n",
    "\n",
    "opcion = int(input('''\n",
    "Por favor elija una de las siguientes opciones:\n",
    "                   \n",
    "(1) ¿Es pangrama?\n",
    "(2) ¿Es heterograma?\n",
    "(3) ¿Es isograma?\n",
    "                   \n",
    "'''))\n",
    "\n",
    "if opcion == 1:\n",
    "    if es_pangrama():\n",
    "        print('True!')\n",
    "    else:\n",
    "        print('False!')\n",
    "elif opcion == 2:\n",
    "    if es_heterograma():\n",
    "        print('True!')\n",
    "    else:\n",
    "        print('False!')\n",
    "elif opcion == 3:\n",
    "    if es_isograma():\n",
    "        print('True!')\n",
    "    else:\n",
    "        print('False!')\n",
    "else:\n",
    "    print('Por favor escoja una opción valida!')"
   ]
  },
  {
   "cell_type": "markdown",
   "metadata": {},
   "source": [
    "### Reto #11 - URL Params"
   ]
  },
  {
   "cell_type": "markdown",
   "metadata": {},
   "source": [
    " Dada una URL con parámetros, crea una función que obtenga sus valores.\n",
    " * No se pueden usar operaciones del lenguaje que realicen esta tarea directamente.\n",
    " * Ejemplo: En la url https://retosdeprogramacion.com?year=2023&challenge=0 los parámetros serían [\"2023\", \"0\"]"
   ]
  },
  {
   "cell_type": "code",
   "execution_count": 12,
   "metadata": {},
   "outputs": [
    {
     "name": "stdout",
     "output_type": "stream",
     "text": [
      "['2023', '0', 'hola']\n"
     ]
    }
   ],
   "source": [
    "url = 'https://retosdeprogramacion.com/?year=2023&challenge=0&prueba=hola'\n",
    "\n",
    "split = url.split('=')\n",
    "paramsv = []\n",
    "\n",
    "for string in split:\n",
    "    if '&' in string:\n",
    "        split2 = string.split('&')\n",
    "        paramsv.append(split2[0])\n",
    "paramsv.append(split[-1])\n",
    "\n",
    "print(paramsv)"
   ]
  },
  {
   "cell_type": "code",
   "execution_count": 10,
   "metadata": {},
   "outputs": [
    {
     "data": {
      "text/plain": [
       "datetime.date(2023, 9, 19)"
      ]
     },
     "execution_count": 10,
     "metadata": {},
     "output_type": "execute_result"
    }
   ],
   "source": [
    "import datetime as dt\n",
    "\n",
    "dt.date(2023,8,20).weekday()\n",
    "dt.date.today()"
   ]
  },
  {
   "cell_type": "markdown",
   "metadata": {},
   "source": [
    "# Retos Personales"
   ]
  },
  {
   "cell_type": "markdown",
   "metadata": {},
   "source": [
    "### Factorial de un número"
   ]
  },
  {
   "cell_type": "markdown",
   "metadata": {},
   "source": [
    "Realizar una función que retorne el factorial de un número de forma iterativa y recursiva"
   ]
  },
  {
   "cell_type": "code",
   "execution_count": 33,
   "metadata": {},
   "outputs": [
    {
     "data": {
      "text/plain": [
       "120"
      ]
     },
     "execution_count": 33,
     "metadata": {},
     "output_type": "execute_result"
    }
   ],
   "source": [
    "def factorial(numero):\n",
    "\n",
    "    factorial = 1\n",
    "\n",
    "    if numero == 0:\n",
    "        return factorial\n",
    "    else:\n",
    "        for n in range(1,numero+1):\n",
    "            factorial *= n\n",
    "\n",
    "    return factorial\n",
    "\n",
    "factorial(5)"
   ]
  },
  {
   "cell_type": "code",
   "execution_count": 34,
   "metadata": {},
   "outputs": [
    {
     "data": {
      "text/plain": [
       "120"
      ]
     },
     "execution_count": 34,
     "metadata": {},
     "output_type": "execute_result"
    }
   ],
   "source": [
    "def factorialR(numero):\n",
    "\n",
    "    if numero == 0:\n",
    "        return 1\n",
    "    else:\n",
    "        return numero * factorialR(numero-1)\n",
    "    \n",
    "factorialR(5)"
   ]
  },
  {
   "cell_type": "markdown",
   "metadata": {},
   "source": [
    "### Propiedades de Listas"
   ]
  },
  {
   "cell_type": "markdown",
   "metadata": {},
   "source": [
    "Iterar listas inversamente"
   ]
  },
  {
   "cell_type": "code",
   "execution_count": 5,
   "metadata": {},
   "outputs": [
    {
     "name": "stdout",
     "output_type": "stream",
     "text": [
      "5\n",
      "4\n",
      "3\n",
      "2\n",
      "1\n"
     ]
    }
   ],
   "source": [
    "a = [1,2,3,4,5]\n",
    "\n",
    "for i in range(len(a)-1,-1,-1):\n",
    "    print(a[i])"
   ]
  },
  {
   "cell_type": "markdown",
   "metadata": {},
   "source": [
    "Verificar igualdad en listas"
   ]
  },
  {
   "cell_type": "code",
   "execution_count": 14,
   "metadata": {},
   "outputs": [
    {
     "name": "stdout",
     "output_type": "stream",
     "text": [
      "False\n"
     ]
    }
   ],
   "source": [
    "a = [1,1]\n",
    "b = [1,None,1]\n",
    "\n",
    "if a == b:\n",
    "    print(True)\n",
    "else:\n",
    "    print(False)"
   ]
  },
  {
   "cell_type": "markdown",
   "metadata": {},
   "source": [
    "# HackerRank"
   ]
  },
  {
   "cell_type": "markdown",
   "metadata": {},
   "source": [
    "### Time Conversion"
   ]
  },
  {
   "cell_type": "markdown",
   "metadata": {},
   "source": [
    "Build a function that converts a time from a 12 hour format to a 24 hour format."
   ]
  },
  {
   "cell_type": "code",
   "execution_count": 35,
   "metadata": {},
   "outputs": [
    {
     "data": {
      "text/plain": [
       "'14:00:04'"
      ]
     },
     "execution_count": 35,
     "metadata": {},
     "output_type": "execute_result"
    }
   ],
   "source": [
    "def timeconversion(s):\n",
    "    if 'AM' in s:\n",
    "        if '12' in s[0:2]:\n",
    "            s = '00'+s[2:8]\n",
    "        else:\n",
    "            s = s.replace('AM','')\n",
    "    \n",
    "    if 'PM' in s:\n",
    "        if '12' in s[0:2]:\n",
    "            s = s[:8]\n",
    "        else:\n",
    "            s = s.replace('PM','')\n",
    "            split = s.split(':')\n",
    "            split[0] = int(split[0])+12\n",
    "            s = str(split[0])+':'+split[1]+':'+split[2]\n",
    "\n",
    "    return s\n",
    "\n",
    "s = '2:00:04PM'\n",
    "timeconversion(s)"
   ]
  },
  {
   "cell_type": "markdown",
   "metadata": {},
   "source": [
    "### Breaking Records"
   ]
  },
  {
   "cell_type": "markdown",
   "metadata": {},
   "source": [
    "Build a function that count how many times a minimum or maximum record has been broken given an array of scores"
   ]
  },
  {
   "cell_type": "code",
   "execution_count": 49,
   "metadata": {},
   "outputs": [
    {
     "data": {
      "text/plain": [
       "[3, 3]"
      ]
     },
     "execution_count": 49,
     "metadata": {},
     "output_type": "execute_result"
    }
   ],
   "source": [
    "def breakingRecords(scores):\n",
    "    min = scores[0]\n",
    "    max = scores[0]\n",
    "    max_c = 0\n",
    "    min_c = 0\n",
    "\n",
    "    for number in scores:\n",
    "\n",
    "        if number < min:\n",
    "            min = number\n",
    "            min_c += 1\n",
    "        \n",
    "        if number > max:\n",
    "            max = number\n",
    "            max_c += 1\n",
    "\n",
    "    return [max_c, min_c]\n",
    "\n",
    "s = [12,10,8,6,13,14,15]\n",
    "\n",
    "breakingRecords(s)   "
   ]
  },
  {
   "cell_type": "markdown",
   "metadata": {},
   "source": [
    "# Ejercicios de Entrevista"
   ]
  },
  {
   "cell_type": "markdown",
   "metadata": {},
   "source": [
    "### Baseball Game"
   ]
  },
  {
   "cell_type": "code",
   "execution_count": 30,
   "metadata": {},
   "outputs": [],
   "source": [
    "def calPoint(ops) -> int:\n",
    "\n",
    "    record = []\n",
    "\n",
    "    for i in range(len(ops)):\n",
    "        try:\n",
    "            record.append(int(ops[i]))\n",
    "        except:\n",
    "            if ops[i] == '+' and len(record) >= 2:\n",
    "                score = record[-1] + record[-2]\n",
    "                record.append(score)\n",
    "            elif ops[i] == 'D' and len(record) >= 1:\n",
    "                score = record[-1] * 2\n",
    "                record.append(score)\n",
    "            elif ops[i] == 'C' and len(record) >= 1:\n",
    "                del record[-1]\n",
    "\n",
    "    result = sum(record)\n",
    "    \n",
    "    return result"
   ]
  },
  {
   "cell_type": "code",
   "execution_count": 31,
   "metadata": {},
   "outputs": [
    {
     "data": {
      "text/plain": [
       "23"
      ]
     },
     "execution_count": 31,
     "metadata": {},
     "output_type": "execute_result"
    }
   ],
   "source": [
    "ops = ['1','3','+','5','D','7','C']\n",
    "\n",
    "calPoint(ops)"
   ]
  },
  {
   "cell_type": "markdown",
   "metadata": {},
   "source": [
    "### Challenge 1"
   ]
  },
  {
   "cell_type": "markdown",
   "metadata": {},
   "source": [
    "Make a code to verify the number of strings in a list k that can be made with the characters of a string s."
   ]
  },
  {
   "cell_type": "code",
   "execution_count": 50,
   "metadata": {},
   "outputs": [
    {
     "name": "stdout",
     "output_type": "stream",
     "text": [
      "5\n"
     ]
    }
   ],
   "source": [
    "s = 'cbd'\n",
    "k = ['cd', 'bd', 'cccb', 'bcc', 'bcdcb']\n",
    "\n",
    "invalid = 0\n",
    "\n",
    "for string in k:\n",
    "    for char in string:\n",
    "        if char not in s:\n",
    "            invalid += 1\n",
    "            break\n",
    "\n",
    "count = len(k) - invalid\n",
    "\n",
    "print(count)"
   ]
  }
 ],
 "metadata": {
  "kernelspec": {
   "display_name": "Python 3",
   "language": "python",
   "name": "python3"
  },
  "language_info": {
   "codemirror_mode": {
    "name": "ipython",
    "version": 3
   },
   "file_extension": ".py",
   "mimetype": "text/x-python",
   "name": "python",
   "nbconvert_exporter": "python",
   "pygments_lexer": "ipython3",
   "version": "3.12.1"
  },
  "orig_nbformat": 4
 },
 "nbformat": 4,
 "nbformat_minor": 2
}
