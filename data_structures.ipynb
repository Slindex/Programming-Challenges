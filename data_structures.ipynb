{
 "cells": [
  {
   "cell_type": "markdown",
   "metadata": {},
   "source": [
    "## Linked Lists"
   ]
  },
  {
   "cell_type": "markdown",
   "metadata": {},
   "source": [
    "### Node Class"
   ]
  },
  {
   "cell_type": "markdown",
   "metadata": {},
   "source": [
    "A Linked List is composed by a subclass `Node()` which contains the **data** and **next** attributes.\n",
    "- **data**: Contains the value stored in the node (int, float)\n",
    "- **next**: Contains a `Node()` object that is next to the current node"
   ]
  },
  {
   "cell_type": "code",
   "execution_count": 1,
   "metadata": {},
   "outputs": [],
   "source": [
    "class Node:\n",
    "    def __init__(self, data=None):\n",
    "        self.data=data\n",
    "        self.next=None"
   ]
  },
  {
   "cell_type": "markdown",
   "metadata": {},
   "source": [
    "### Linked List Class"
   ]
  },
  {
   "cell_type": "markdown",
   "metadata": {},
   "source": [
    "The linked list class is initialized with the **head** attribute, which contains an empty `Node()` object as a place holder for initializing an empty linked list. The **head** is also the starting point for iterating throughout the list."
   ]
  },
  {
   "cell_type": "code",
   "execution_count": 39,
   "metadata": {},
   "outputs": [],
   "source": [
    "class LinkedList:\n",
    "    def __init__(self):\n",
    "        self.head = Node()\n",
    "\n",
    "    def append(self, data):\n",
    "        new_node = Node(data)\n",
    "        cur = self.head\n",
    "\n",
    "        while cur.next != None:\n",
    "            cur = cur.next\n",
    "\n",
    "        cur.next = new_node\n",
    "\n",
    "    def lenght(self):\n",
    "        cur = self.head\n",
    "        count = 0\n",
    "\n",
    "        while cur.next != None:\n",
    "            count+=1\n",
    "            cur = cur.next\n",
    "        \n",
    "        return count\n",
    "    \n",
    "    def display(self):\n",
    "        elems = []\n",
    "        cur = self.head\n",
    "\n",
    "        while cur.next != None:\n",
    "            cur = cur.next\n",
    "            elems.append(cur.data)\n",
    "        \n",
    "        print(elems)\n",
    "\n",
    "    def isSorted(self):\n",
    "        cur = self.head\n",
    "\n",
    "        while cur.next != None:\n",
    "            cur = cur.next\n",
    "            if cur.next != None and cur.data > cur.next.data:\n",
    "                return False\n",
    "            \n",
    "        return True\n",
    "    \n",
    "    def sort(self):\n",
    "        while not self.isSorted():\n",
    "            cur = self.head\n",
    "            while cur.next != None:\n",
    "                cur = cur.next\n",
    "                if cur.next != None and cur.data > cur.next.data:\n",
    "                    major = cur.data\n",
    "                    minor = cur.next.data\n",
    "\n",
    "                    cur.data = minor\n",
    "                    cur.next.data = major\n",
    "\n",
    "    def get(self, index):\n",
    "        if index >= self.lenght():\n",
    "            print(\"ERROR: 'Get' Index out of range!\")\n",
    "            return None\n",
    "        \n",
    "        cur_idx = 0\n",
    "        cur_node = self.head\n",
    "\n",
    "        while True:\n",
    "            cur_node = cur_node.next\n",
    "            if cur_idx == index:\n",
    "                return cur_node.data\n",
    "            else:\n",
    "                cur_idx+=1\n",
    "\n",
    "    def erase(self, index):\n",
    "        if index >= self.lenght():\n",
    "            print(\"ERROR: 'Get' Index out of range!\")\n",
    "            return None\n",
    "        \n",
    "        cur_idx = 0\n",
    "        cur_node = self.head\n",
    "\n",
    "        while True:\n",
    "            prev_node = cur_node\n",
    "            cur_node = cur_node.next\n",
    "            if cur_idx == index:\n",
    "                prev_node.next = cur_node.next\n",
    "                return None\n",
    "            else:\n",
    "                cur_idx+=1"
   ]
  },
  {
   "cell_type": "code",
   "execution_count": 44,
   "metadata": {},
   "outputs": [
    {
     "name": "stdout",
     "output_type": "stream",
     "text": [
      "[2, 3, 5, 7]\n"
     ]
    },
    {
     "data": {
      "text/plain": [
       "7"
      ]
     },
     "execution_count": 44,
     "metadata": {},
     "output_type": "execute_result"
    }
   ],
   "source": [
    "my_list = LinkedList()\n",
    "\n",
    "my_list.append(3)\n",
    "my_list.append(5)\n",
    "my_list.append(2)\n",
    "my_list.append(7)\n",
    "my_list.sort()\n",
    "my_list.display()\n",
    "my_list.get(3)"
   ]
  }
 ],
 "metadata": {
  "kernelspec": {
   "display_name": "Python 3",
   "language": "python",
   "name": "python3"
  },
  "language_info": {
   "codemirror_mode": {
    "name": "ipython",
    "version": 3
   },
   "file_extension": ".py",
   "mimetype": "text/x-python",
   "name": "python",
   "nbconvert_exporter": "python",
   "pygments_lexer": "ipython3",
   "version": "3.12.1"
  }
 },
 "nbformat": 4,
 "nbformat_minor": 2
}
